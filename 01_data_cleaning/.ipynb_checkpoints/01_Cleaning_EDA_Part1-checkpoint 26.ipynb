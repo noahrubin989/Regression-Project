{
 "cells": [
  {
   "cell_type": "code",
   "execution_count": null,
   "id": "8c079a9f",
   "metadata": {},
   "outputs": [],
   "source": [
    "%%javascript\n",
    "IPython.OutputArea.auto_scroll_threshold = 9999;"
   ]
  },
  {
   "cell_type": "markdown",
   "id": "prime-worthy",
   "metadata": {},
   "source": [
    "## <span style=\"color:black\">**Regression Modelling of Life Expectancy - Noah Rubin**</span>\n",
    "\n",
    "---\n",
    "\n",
    "<ins>Project Overview:</ins>\n",
    "\n",
    "In this personal project I look into ways of modelling life expectancy using a variety of regression models, including:\n",
    "* Ordinary Least Squares Regression\n",
    "* Ridge Regression\n",
    "* LASSO Regression\n",
    "* Elastic Net Regression\n",
    "* Decision Tree Regression\n",
    "* Random Forest Regression\n",
    "* Gradient Boosting\n",
    "* Adaptive Boosting\n",
    "* Catboost Regression\n",
    "* Extreme Gradient Boosting (XGBoost)\n",
    "\n",
    "---\n",
    "\n",
    "The variables in my original dataset include:\n",
    "* **Country**\n",
    "* **Year**\n",
    "* **InfantMortality:** The number of infants dying before the age of one, per 1000 live births\n",
    "* **Health_exp:** The percentage of their total GDP that a country has spent on health\n",
    "* **Life_exp:** Life expectancy at birth (this was the dependent variable for all the models I built)\n",
    "* **GDP_cap:** Per capita income in $USD\n",
    "* **Employment:** Employment to population ratio for people over the age of 15.\n",
    "* **Status:** Whether they are a developed or a developing country\n",
    "* **MeanSchooling:** Average number of completed years of education for those aged 25 years and older\n",
    "* **ElectricityAccess:** The percentage of the population who have access to electricity\n",
    "\n",
    "---\n",
    "\n",
    "This first notebook will predominantly consist of basic cleaning and some visualisations."
   ]
  },
  {
   "cell_type": "code",
   "execution_count": null,
   "id": "mathematical-evans",
   "metadata": {},
   "outputs": [],
   "source": [
    "# My modules\n",
    "import data_cleaning as dc\n",
    "import basic_visuals as bv\n",
    "\n",
    "import numpy as np\n",
    "import pandas as pd\n",
    "import pandas_bokeh as pdbk\n",
    "import seaborn as sns\n",
    "import matplotlib.pyplot as plt\n",
    "from bokeh.models import Legend\n",
    "\n",
    "from scipy import stats\n",
    "from sklearn.model_selection import train_test_split\n",
    "\n",
    "# Display settings and allowing this notebook to update with any changes made to .py files\n",
    "plt.style.use('seaborn-whitegrid') \n",
    "%config InlineBackend.figure_format = 'svg'  \n",
    "%load_ext autoreload\n",
    "%autoreload 2\n",
    "pdbk.output_notebook()"
   ]
  },
  {
   "cell_type": "code",
   "execution_count": null,
   "id": "fleet-linux",
   "metadata": {},
   "outputs": [],
   "source": [
    "# Load in the data\n",
    "possible_nans = ['na', 'Na', 'NA', 'null', 'Null', 'NULL', 'missing', \n",
    "                 'Nan', 'NAN', 'Nan', 'NAN', 'Absent', '.', '..', '...', \n",
    "                 'Missing', 'MISSING', 'Missing Value', '-999999', '']\n",
    "\n",
    "df = pd.read_csv('../data/OriginalDataset.csv', na_values=possible_nans)\n",
    "\n",
    "print(df.info())\n",
    "df.head()"
   ]
  },
  {
   "cell_type": "code",
   "execution_count": null,
   "id": "7a48e50c",
   "metadata": {},
   "outputs": [],
   "source": [
    "# Display missing data\n",
    "dc.display_missing_data(df, (10, 6));"
   ]
  },
  {
   "cell_type": "markdown",
   "id": "verbal-accuracy",
   "metadata": {},
   "source": [
    "#### <span style=\"color:black\">**<u>Initial Data Cleaning**</u></span>\n",
    "* Lowers the chances of us being misguided into making incorrect decisions\n",
    "* Distance based algorithms in general are sensitive to outliers\n",
    "\n",
    "#### <span style=\"color:black\"><u>**Cleaning**</u></span>\n",
    "\n",
    "Some strategies:\n",
    "\n",
    "a) Handling <u>inconsistent data</u>: Removing whitespace, fixing case issues, handling blank strings. It ensures that 'Australia' and '  austrAlia   ' are treated the same\n",
    "\n",
    "b) Handling <u>unessessary</u> data: Check for duplicated rows, or duplicates of subsets of particular rows\n",
    "\n",
    "---\n",
    "\n",
    "Any additional cleaning will be influenced by what I see from the training data (without looking at the test set) to avoid [data leakage](https://machinelearningmastery.com/data-leakage-machine-learning/). Here I will get started with some data analysis where I intend to:\n",
    "\n",
    "a) Explore and visualise <u>missing</u> data\n",
    "\n",
    "d) Do some basic (mostly non-statistical) data analysis \n",
    "\n",
    "e) Move into the more statistics heavy Exploratory Data Analysis and data imputation **(next notebook)**\n",
    "\n"
   ]
  },
  {
   "cell_type": "markdown",
   "id": "chemical-addiction",
   "metadata": {},
   "source": [
    "#### <span style=\"color:black\">**a) Removing whitespace, fixing case issues, handling blank strings**</span>"
   ]
  },
  {
   "cell_type": "code",
   "execution_count": null,
   "id": "understanding-basic",
   "metadata": {},
   "outputs": [],
   "source": [
    "# Uncomment the line below and comment the one below that\n",
    "# ?dc.process_inconsistent_data\n",
    "df = dc.process_inconsistent_data(df)"
   ]
  },
  {
   "cell_type": "code",
   "execution_count": null,
   "id": "53138c62",
   "metadata": {},
   "outputs": [],
   "source": [
    "# Check country names to see that there is no 'Aus' or 'Aust' instead of 'Australia' etc. \n",
    "df.Country.unique()"
   ]
  },
  {
   "cell_type": "markdown",
   "id": "sitting-kitchen",
   "metadata": {},
   "source": [
    "#### <span style=\"color:black\">**b) Check for duplicated rows, or duplicates of subsets of particular rows**</span>"
   ]
  },
  {
   "cell_type": "code",
   "execution_count": null,
   "id": "quarterly-differential",
   "metadata": {},
   "outputs": [],
   "source": [
    "# There are no complete copies of particular rows\n",
    "print(df.duplicated().sum() == 0)\n",
    "\n",
    "# But what if a subset is duplicated (e.g. repeated Country, Year combination)\n",
    "print(df.duplicated(subset=['Country', 'Year']).sum() == 0)  # No duplicated data"
   ]
  },
  {
   "cell_type": "markdown",
   "id": "satisfied-motivation",
   "metadata": {},
   "source": [
    "## <span style=\"color:black\">**<u>Exploratory Data Analysis</u>**</span>\n",
    "\n",
    "- [Exploratory Data Analysis](https://towardsdatascience.com/exploratory-data-analysis-8fc1cb20fd15) (EDA) through statistical techniques and visualisation methods can help summarise relationships and patterns in our dataset. \n",
    "- We can perform univariate analysis, bivariate analysis and multivariate analysis, all of which can help us in areas such as outlier detection and feature selection\n",
    "- This notebook will have some surface level EDA\n",
    "\n",
    "---\n",
    "\n",
    "a) Surface level data analysis.\n",
    "\n",
    "b) Outlier detection on a univariate, bivariate and multivariate level. **This stats focused part will be in the next notebook**\n",
    "\n",
    "---"
   ]
  },
  {
   "cell_type": "markdown",
   "id": "pursuant-ground",
   "metadata": {},
   "source": [
    "#### <span style=\"color:black\">**a) Basic Data Analysis**</span>\n",
    "- Answering questions through the use of plots"
   ]
  },
  {
   "cell_type": "markdown",
   "id": "brave-campus",
   "metadata": {},
   "source": [
    "#### <span style=\"color:black\"><u>Categorical Variables</u></span>\n",
    "\n",
    "- A **nominal** categorical variable is a variable where order is not important e.g. Red/Blue/Green\n",
    "- **Ordinal** categorical data is where there is a particular order to it e.g. (Bachelor's degree - Masters degree - PhD degree)"
   ]
  },
  {
   "cell_type": "markdown",
   "id": "engaging-navigator",
   "metadata": {},
   "source": [
    "#### Country"
   ]
  },
  {
   "cell_type": "code",
   "execution_count": null,
   "id": "loved-qualification",
   "metadata": {},
   "outputs": [],
   "source": [
    "# All countries have 19 records (2000-2018)\n",
    "df['Country'].value_counts(ascending = True)  "
   ]
  },
  {
   "cell_type": "markdown",
   "id": "blond-villa",
   "metadata": {},
   "source": [
    "#### Status"
   ]
  },
  {
   "cell_type": "code",
   "execution_count": null,
   "id": "written-thailand",
   "metadata": {},
   "outputs": [],
   "source": [
    "sns.countplot(x='Status', data = df, palette = 'Set3', edgecolor = 'black');"
   ]
  },
  {
   "cell_type": "markdown",
   "id": "romantic-generation",
   "metadata": {},
   "source": [
    "#### <span style=\"color:black\"><u>Numeric Variables</u></span>\n",
    "\n",
    "- **Discrete numeric variables** can typically be counted e.g. Shoe sizes of 6, 7, 8...\n",
    "- **Continuous numeric variables** refer to variables that can be measured very precisely e.g. Heights ranging from 168.56787678cm to 193.34543453cm"
   ]
  },
  {
   "cell_type": "markdown",
   "id": "completed-optics",
   "metadata": {},
   "source": [
    "### Life Expectancy Variable\n",
    "--- \n",
    "\n",
    "#### Q: Which countries have the lowest life expectancy?\n",
    "\n",
    "The developed world typically can expect to live for 80+ years. Lets see which nations are falling behind in this area"
   ]
  },
  {
   "cell_type": "code",
   "execution_count": null,
   "id": "a8d0f584",
   "metadata": {},
   "outputs": [],
   "source": [
    "bv.plot_countries_low_life_exp(df, value=48, fig_s=(10, 6))"
   ]
  },
  {
   "cell_type": "code",
   "execution_count": null,
   "id": "meaning-fifteen",
   "metadata": {},
   "outputs": [],
   "source": [
    "# Compare mean and median life expectancy \n",
    "bv.mean_median_comparison(df, 'Life_exp')"
   ]
  },
  {
   "cell_type": "markdown",
   "id": "arranged-aaron",
   "metadata": {},
   "source": [
    "One more thing I wanted to look for here is if there were any developed countries where life expectancy was lower than 60. If this is the case, it would likely be a data entry error. We'll also see if there were any develoing countries with a life expectancy greater than 75. I am confident that the latter will occur."
   ]
  },
  {
   "cell_type": "code",
   "execution_count": null,
   "id": "cooked-spring",
   "metadata": {},
   "outputs": [],
   "source": [
    "developed_condition = ((df.Status == 'Developed') & (df['Life_exp'] <= 60))\n",
    "developing_condition = ((df.Status == 'Developing') & (df['Life_exp'] >= 75))\n",
    "\n",
    "potential_le_outliers = df.loc[developed_condition | developing_condition].copy()\n",
    "potential_le_outliers.sample(10)"
   ]
  },
  {
   "cell_type": "code",
   "execution_count": null,
   "id": "maritime-section",
   "metadata": {},
   "outputs": [],
   "source": [
    "# Check to see whether any developed countries were included in the above output\n",
    "print(f\"{potential_le_outliers.Status.unique()}\\n\")\n",
    "\n",
    "# See all the developing countries that fulfilled the conditions in the cell above\n",
    "print(potential_le_outliers.Country.unique())"
   ]
  },
  {
   "cell_type": "markdown",
   "id": "essential-royalty",
   "metadata": {},
   "source": [
    "Poland is considered a developed country so let's clean this up"
   ]
  },
  {
   "cell_type": "code",
   "execution_count": null,
   "id": "understanding-baptist",
   "metadata": {},
   "outputs": [],
   "source": [
    "df.loc[df.Country == 'Poland', 'Status'] = 'Developed'"
   ]
  },
  {
   "cell_type": "markdown",
   "id": "arabic-techno",
   "metadata": {},
   "source": [
    "#### Task: Create a summary of the top and bottom five life countries for life expectancy"
   ]
  },
  {
   "cell_type": "code",
   "execution_count": null,
   "id": "approximate-election",
   "metadata": {},
   "outputs": [],
   "source": [
    "# I will create a function for this\n",
    "def graph_best_worst_countries(aggregation_variable, style = 'seaborn-whitegrid', data = df, grid1 = False, grid2 = False, palette = 'tab10'):\n",
    "    \n",
    "    '''\n",
    "    This function will return a graph of the top and bottom 5 of a particular column (e.g. Life Expectancy) **by year**. \n",
    "    The data will be grouped by country and we can specify the <aggregation_variable> parameter that we want to do the mean \n",
    "    aggregation function on.\n",
    "    '''\n",
    "    \n",
    "    plt.style.use(style)  \n",
    "    fig, (ax1, ax2) = plt.subplots(constrained_layout = True, nrows = 2, sharex = True, figsize = (12, 10))\n",
    "    fig.suptitle(f'Worst/Best Countries: {aggregation_variable}')\n",
    "    # =============================================================================================================\n",
    "    worst = data.groupby('Country')[aggregation_variable].mean().sort_values(ascending = True)[:5]\n",
    "    df_worst = data[data.Country.isin(worst.index)]\n",
    "    sns.lineplot(x = df_worst.Year, \n",
    "                 y = aggregation_variable, \n",
    "                 hue = 'Country', \n",
    "                 palette = palette,\n",
    "                 data = df_worst, \n",
    "                 ax = ax1);\n",
    "    ax1.legend(loc = 'best', fontsize = 'small', frameon = True)\n",
    "    # =============================================================================================================\n",
    "    best = data.groupby('Country')[aggregation_variable].mean().sort_values(ascending = False)[:5]\n",
    "    df_best = data[data.Country.isin(best.index)]\n",
    "    sns.lineplot(x = df_best['Year'], \n",
    "                 y = aggregation_variable, \n",
    "                 hue = 'Country', \n",
    "                 palette = palette,\n",
    "                 data = df_best, \n",
    "                 ax = ax2);\n",
    "    ax2.legend(loc = 'best', fontsize = 'small', frameon = True)\n",
    "\n",
    "    # Display settings\n",
    "    ax1.set(xlim = (df_best.Year.min() - 1, df_best.Year.max() + 1))\n",
    "    ax1.ticklabel_format(useOffset = False, style = 'plain')\n",
    "    \n",
    "    plt.xticks(np.arange(2000, 2020, 2))\n",
    "    ax2.set(xlim = (df_worst.Year.min() -1 , df_best.Year.max() + 1))\n",
    "    ax2.ticklabel_format(useOffset = False, style = 'plain')\n",
    "    \n",
    "    ax1.grid(grid1)\n",
    "    ax2.grid(grid2)"
   ]
  },
  {
   "cell_type": "code",
   "execution_count": null,
   "id": "secret-block",
   "metadata": {},
   "outputs": [],
   "source": [
    "# Use our function\n",
    "graph_best_worst_countries(aggregation_variable = 'Life_exp')"
   ]
  },
  {
   "cell_type": "markdown",
   "id": "suspected-kazakhstan",
   "metadata": {},
   "source": [
    "## Infant Mortality Feature\n",
    "\n",
    "--- \n",
    "\n",
    "#### Q: How does infant mortality in Australia (per 1000) compare to some other countries"
   ]
  },
  {
   "cell_type": "code",
   "execution_count": null,
   "id": "irish-intent",
   "metadata": {},
   "outputs": [],
   "source": [
    "# Graph some mortality rates\n",
    "interesting_countries = ['Australia', 'United States', 'United Kingdom',\n",
    "                         'Germany', 'Finland', 'Japan', 'France',\n",
    "                         'New Zealand', 'Sweden', 'Canada']\n",
    "\n",
    "devpt_countries = df[df.Country.isin(interesting_countries)]\n",
    "\n",
    "# Plot these countries on a line plot\n",
    "fig, ax1 = plt.subplots(figsize = (10, 6))\n",
    "\n",
    "sns.lineplot(x = 'Year', \n",
    "             y = 'InfantMortality', \n",
    "             hue = 'Country',\n",
    "             palette = 'tab20',\n",
    "             data = devpt_countries,\n",
    "             ax = ax1)\n",
    "\n",
    "# Adjust title, x markers and legend\n",
    "ax1.set(title = 'Infant Mortality', xticks = np.arange(2000, 2020, 2))\n",
    "ax1.legend(labelcolor = 'black', loc = 'best', bbox_to_anchor = [1, 1])\n",
    "plt.grid(False);"
   ]
  },
  {
   "cell_type": "markdown",
   "id": "later-bundle",
   "metadata": {},
   "source": [
    "#### Q: Which countries are struggling the most with high infant mortality and which countries have the lowest rates. What is the genral trend for these countries?"
   ]
  },
  {
   "cell_type": "code",
   "execution_count": null,
   "id": "metric-tuning",
   "metadata": {},
   "outputs": [],
   "source": [
    "# Reuse best/worst function from before\n",
    "graph_best_worst_countries(aggregation_variable = 'InfantMortality')"
   ]
  },
  {
   "cell_type": "code",
   "execution_count": null,
   "id": "expanded-enhancement",
   "metadata": {},
   "outputs": [],
   "source": [
    "# The rates are lowering but the developing world is lagging far behind\n",
    "df.groupby(['Year', 'Status'])['InfantMortality'].mean().plot(kind='bar', \n",
    "                                                              color='grey',\n",
    "                                                              ylabel='Infant Mortality/1000',\n",
    "                                                              figsize=(10, 10));"
   ]
  },
  {
   "cell_type": "markdown",
   "id": "acute-evolution",
   "metadata": {},
   "source": [
    "## Schooling Feature"
   ]
  },
  {
   "cell_type": "markdown",
   "id": "handed-article",
   "metadata": {},
   "source": [
    "#### Question: Which countries have had average 'MeanSchooling' less than 6 years on average (about the equivalent of finishing primary school)"
   ]
  },
  {
   "cell_type": "code",
   "execution_count": null,
   "id": "married-yorkshire",
   "metadata": {},
   "outputs": [],
   "source": [
    "# Could do color=sns.color_palette(\"winter\") but don't worry about it\n",
    "plt.style.use('dark_background')\n",
    "\n",
    "country_grouping_schooling = df[df.MeanSchooling <= 6].groupby('Country')['MeanSchooling'].mean()\n",
    "\n",
    "country_grouping_schooling.sort_values().plot(kind = 'barh',\n",
    "                                              figsize = (10, 10),\n",
    "                                              xlabel = 'Mean Schooling',\n",
    "                                              color = '#9933ff',\n",
    "                                              grid = False,\n",
    "                                              title = 'Average Years of Schooling by Country (Under 6 Years Only)',\n",
    "                                              xlim = (0, 6.5));"
   ]
  },
  {
   "cell_type": "markdown",
   "id": "strategic-baltimore",
   "metadata": {},
   "source": [
    "## GDP Per Capita Feature\n",
    "---\n",
    "#### Q: Which countries are struggling the most economically? Which countries are the most well off?"
   ]
  },
  {
   "cell_type": "code",
   "execution_count": null,
   "id": "quick-wireless",
   "metadata": {},
   "outputs": [],
   "source": [
    "# Reuse my function\n",
    "graph_best_worst_countries(aggregation_variable = 'GDP_cap', style = 'dark_background')"
   ]
  },
  {
   "cell_type": "markdown",
   "id": "convinced-dress",
   "metadata": {},
   "source": [
    "#### Q: Which countries have experienced the highest percentage growth in per capita income  since 2000?"
   ]
  },
  {
   "cell_type": "code",
   "execution_count": null,
   "id": "olympic-bachelor",
   "metadata": {},
   "outputs": [],
   "source": [
    "plt.style.use('seaborn')\n",
    "\n",
    "records = []\n",
    "for country in df.Country.unique():\n",
    "    initial = df.loc[(df.Country == country) & (df.Year == df.Year.min()), 'GDP_cap'].values[0]\n",
    "    final = df.loc[(df.Country == country) & (df.Year == df.Year.max()), 'GDP_cap'].values[0]\n",
    "    pct_change = ((final-initial) / initial) * 100\n",
    "    records.append((country, pct_change))    \n",
    "\n",
    "# Now place all of the results in a dataframe\n",
    "pct_growth = pd.DataFrame(records, columns = ['Country', '% Change in GDP'])\n",
    "\n",
    "# Sort values by gdp change\n",
    "pct_growth.sort_values(by = '% Change in GDP', \n",
    "                       ascending = False,\n",
    "                       inplace = True)\n",
    "\n",
    "# Display our data in two different ways by creating a figure with two axes\n",
    "fig, (ax1, ax2) = plt.subplots(nrows = 1, ncols = 2, figsize = (12, 6))\n",
    "fig.suptitle(f'Largest Relative Changes in GDP from {df.Year.min()}-{df.Year.max()}')\n",
    "\n",
    "# ax1 display settings\n",
    "ax1.set(title = 'As a Bar Plot (Top 20)')\n",
    "ax1.grid(False)\n",
    "ax2.set(title = 'As a Line Plot (Top 5)')\n",
    "ax2.grid(False)\n",
    "\n",
    "# Plot for ax1\n",
    "sns.barplot(x = pct_growth.Country[:20], \n",
    "            y = pct_growth['% Change in GDP'][:20],\n",
    "            ax=ax1)\n",
    "\n",
    "# Plot for ax2\n",
    "sns.lineplot(data=df[df.Country.isin(pct_growth.Country[:5])], \n",
    "             x='Year',\n",
    "             y='GDP_cap',\n",
    "             hue='Country',\n",
    "             ax=ax2);\n",
    "\n",
    "# Rotate x ticks\n",
    "ax1.set_xticklabels(ax1.get_xticklabels(), rotation=90);"
   ]
  },
  {
   "cell_type": "markdown",
   "id": "offshore-crest",
   "metadata": {},
   "source": [
    "## Health Expenditure Feature\n",
    "---\n",
    "#### Q: How have attitudes towards health changed over the years"
   ]
  },
  {
   "cell_type": "code",
   "execution_count": null,
   "id": "organic-count",
   "metadata": {},
   "outputs": [],
   "source": [
    "# We see that the world has started to prioritise health expenditure\n",
    "# Perhaps governments believe that allocating more to health will ultimately improve the overall GDP\n",
    "# ...due to increased workforce productivity from a healthier overall population living longer\n",
    "# Beliow is how % of gdp spent on health has changed over time\n",
    "\n",
    "df.groupby('Year')['Health_exp'].mean().plot_bokeh(kind='line',\n",
    "                                                   title='Health Expentiture Trend: (All Countries)',\n",
    "                                                   color='red',\n",
    "                                                   panning=False,\n",
    "                                                   rangetool=True,\n",
    "                                                   zooming=False,\n",
    "                                                   ylabel='% of Total Expenditure');\n",
    "\n",
    "legend = Legend(location=(30, 100))"
   ]
  },
  {
   "cell_type": "code",
   "execution_count": null,
   "id": "blank-antique",
   "metadata": {},
   "outputs": [],
   "source": [
    "# Reuse function again to see relative smallest/biggest spenders on health expentiture\n",
    "graph_best_worst_countries('Health_exp')"
   ]
  },
  {
   "cell_type": "markdown",
   "id": "secondary-liability",
   "metadata": {},
   "source": [
    "> Summary..."
   ]
  },
  {
   "cell_type": "code",
   "execution_count": null,
   "id": "lightweight-writer",
   "metadata": {},
   "outputs": [],
   "source": [
    "# Create separate datasets for developed and developing counbtries\n",
    "developed = df[df.Status == 'Developed'].copy()\n",
    "developing = df[df.Status == 'Developing'].copy()\n",
    "\n",
    "# Loop through all the numeric varibles, plotting on the y with year as the x variable\n",
    "for column in df.select_dtypes(include = np.number).columns[1:]:\n",
    "    fig, ax = plt.subplots()\n",
    "\n",
    "    # Developed Countries\n",
    "    developed.groupby('Year')[column].mean().plot(kind='line',\n",
    "                                                  color='#cc00ff',\n",
    "                                                  label='Developed',\n",
    "                                                  ax=ax)\n",
    "    # Developing Countries\n",
    "    developing.groupby('Year')[column].mean().plot(kind='line',\n",
    "                                                   color='#6699ff',\n",
    "                                                   label='Developing',\n",
    "                                                   ax=ax)\n",
    "    \n",
    "    plt.title(f\"Mean {column}: Developed vs Developing\")\n",
    "    plt.ylabel(column)\n",
    "    plt.grid(False)\n",
    "    plt.legend();"
   ]
  },
  {
   "cell_type": "markdown",
   "id": "military-glasgow",
   "metadata": {},
   "source": [
    "# Split Data into Train/Test & Save to CSV\n",
    "\n",
    "Save the training and test dataset in separate csv files. Putting the testing set away for a bit until I evaluate my final model on it to see how well a model performs on unseen data."
   ]
  },
  {
   "cell_type": "code",
   "execution_count": null,
   "id": "communist-stream",
   "metadata": {},
   "outputs": [],
   "source": [
    "train, test = train_test_split(df, train_size = 0.75, random_state = 10)"
   ]
  },
  {
   "cell_type": "code",
   "execution_count": null,
   "id": "digital-wound",
   "metadata": {},
   "outputs": [],
   "source": [
    "train.to_csv('./data/training.csv', index = False)\n",
    "test.to_csv('./data/testing.csv', index = False)"
   ]
  }
 ],
 "metadata": {
  "kernelspec": {
   "display_name": "Python 3",
   "language": "python",
   "name": "python3"
  },
  "language_info": {
   "codemirror_mode": {
    "name": "ipython",
    "version": 3
   },
   "file_extension": ".py",
   "mimetype": "text/x-python",
   "name": "python",
   "nbconvert_exporter": "python",
   "pygments_lexer": "ipython3",
   "version": "3.8.8"
  }
 },
 "nbformat": 4,
 "nbformat_minor": 5
}

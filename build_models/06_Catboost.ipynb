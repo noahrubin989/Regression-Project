{
 "cells": [
  {
   "cell_type": "markdown",
   "id": "de180b9d",
   "metadata": {},
   "source": [
    "# **Catboost Regression**\n",
    "\n",
    "* Developed by a Russian company Yandex in 2017\n",
    "* An algorithm that has in built ability to deal woth categorical features with ease (which makes certain feature engineering tasks like one hot encoding futile)\n",
    "* [Nice resource](https://towardsdatascience.com/catboost-regression-in-6-minutes-3487f3e5b329) that I have been using to learn CatBoost\n",
    "* November 2021 update: [been using this too](https://towardsdatascience.com/how-do-you-use-categorical-features-directly-with-catboost-947b211c2923)\n",
    "\n",
    "Noah Rubin - July 2021"
   ]
  },
  {
   "cell_type": "code",
   "execution_count": null,
   "id": "5b0cad64",
   "metadata": {},
   "outputs": [],
   "source": [
    "# Python files\n",
    "import data_prep\n",
    "import helper_funcs\n",
    "\n",
    "import joblib\n",
    "import matplotlib.pyplot as plt\n",
    "import numpy as np\n",
    "import pandas as pd\n",
    "from catboost import CatBoostRegressor, Pool\n",
    "from sklearn.impute import KNNImputer\n",
    "\n",
    "# Personal display settings\n",
    "#===========================\n",
    "\n",
    "# Suppress scientific notation\n",
    "np.set_printoptions(suppress=True)\n",
    "\n",
    "# Get dataset values showing only 2dp\n",
    "pd.options.display.float_format = '{:.2f}'.format\n",
    "pd.set_option('display.max_colwidth', None)\n",
    "\n",
    "plt.style.use('seaborn-whitegrid') \n",
    "%matplotlib inline\n",
    "\n",
    "%load_ext autoreload\n",
    "%autoreload 2"
   ]
  },
  {
   "cell_type": "code",
   "execution_count": null,
   "id": "bb6e9da7",
   "metadata": {},
   "outputs": [],
   "source": [
    "train = pd.read_csv('../datasets/train_updated.csv')\n",
    "test = pd.read_csv('../datasets/test_updated.csv')\n",
    "\n",
    "# Split data\n",
    "to_drop = ['HDI', 'Life_exp']\n",
    "\n",
    "X_train = train.drop(to_drop, axis='columns')\n",
    "X_test = test.drop(to_drop, axis='columns')\n",
    "\n",
    "y_train = train['Life_exp']\n",
    "y_test = test['Life_exp']"
   ]
  },
  {
   "cell_type": "markdown",
   "id": "2e7105b4",
   "metadata": {},
   "source": [
    "## Build Model"
   ]
  },
  {
   "cell_type": "code",
   "execution_count": null,
   "id": "b4897b2a",
   "metadata": {},
   "outputs": [],
   "source": [
    "training_set = Pool(X_train, y_train, cat_features = ['Country', 'Status'])\n",
    "\n",
    "test_set = Pool(X_test, cat_features = ['Country','Status'])\n",
    "\n",
    "model = CatBoostRegressor(n_estimators=200,\n",
    "                          loss_function='RMSE',\n",
    "                          learning_rate=0.4,\n",
    "                          depth=3, \n",
    "                          task_type='CPU',\n",
    "                          random_state=1,\n",
    "                          verbose=False).fit(training_set)"
   ]
  },
  {
   "cell_type": "markdown",
   "id": "2f84aec4",
   "metadata": {},
   "source": [
    "## Evaluation Metrics"
   ]
  },
  {
   "cell_type": "code",
   "execution_count": null,
   "id": "e07d1499",
   "metadata": {},
   "outputs": [],
   "source": [
    "r2, mse, rmse, mae = helper_funcs.display_regression_metrics(y_test, model.predict(X_test))"
   ]
  },
  {
   "cell_type": "markdown",
   "id": "77c56a83",
   "metadata": {},
   "source": [
    "## Save Model"
   ]
  },
  {
   "cell_type": "code",
   "execution_count": null,
   "id": "7bfdf7a2",
   "metadata": {},
   "outputs": [],
   "source": [
    "joblib.dump(model, './saved_models/CatBoost.joblib')"
   ]
  }
 ],
 "metadata": {
  "kernelspec": {
   "display_name": "Python 3",
   "language": "python",
   "name": "python3"
  },
  "language_info": {
   "codemirror_mode": {
    "name": "ipython",
    "version": 3
   },
   "file_extension": ".py",
   "mimetype": "text/x-python",
   "name": "python",
   "nbconvert_exporter": "python",
   "pygments_lexer": "ipython3",
   "version": "3.8.8"
  }
 },
 "nbformat": 4,
 "nbformat_minor": 5
}
